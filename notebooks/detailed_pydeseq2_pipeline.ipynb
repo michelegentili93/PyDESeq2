{
 "cells": [
  {
   "cell_type": "code",
   "execution_count": null,
   "metadata": {
    "collapsed": false,
    "jupyter": {
     "outputs_hidden": false
    }
   },
   "outputs": [],
   "source": [
    "%matplotlib inline"
   ]
  },
  {
   "cell_type": "markdown",
   "metadata": {},
   "source": [
    "\n",
    "# Step-by-step PyDESeq2 workflow\n",
    "\n",
    "This notebook details all the steps of the PyDESeq2 pipeline.\n",
    "\n",
    "It allows you to run the PyDESeq2 pipeline on the synthetic data provided\n",
    "in this repository.\n",
    "\n",
    "If this is your first contact with PyDESeq2, we recommend you first have a look at the\n",
    "[standard workflow example](https://pydeseq2.readthedocs.io/en/latest/auto_examples/plot_minimal_pydeseq2_pipeline.html#sphx-glr-auto-examples-plot-minimal-pydeseq2-pipeline-py).\n",
    "\n",
    "We start by importing required packages and setting up an optional path to save\n",
    "results.\n"
   ]
  },
  {
   "cell_type": "code",
   "execution_count": null,
   "metadata": {
    "collapsed": false,
    "jupyter": {
     "outputs_hidden": false
    }
   },
   "outputs": [],
   "source": [
    "import os\n",
    "import pickle as pkl\n",
    "\n",
    "from pydeseq2.dds import DeseqDataSet\n",
    "from pydeseq2.ds import DeseqStats\n",
    "from pydeseq2.utils import load_example_data\n",
    "\n",
    "SAVE = False  # whether to save the outputs of this notebook\n",
    "\n",
    "if SAVE:\n",
    "    # Replace this with the path to directory where you would like results to be\n",
    "    # saved\n",
    "    OUTPUT_PATH = \"../output_files/synthetic_example\"\n",
    "    os.makedirs(OUTPUT_PATH, exist_ok=True)  # Create path if it doesn't exist"
   ]
  },
  {
   "cell_type": "markdown",
   "metadata": {},
   "source": [
    "## Data loading\n",
    "\n",
    "Note that we are also explaining this step in the 'getting started' example.\n",
    "To perform differential expression analysis (DEA), PyDESeq2 requires two types of\n",
    "inputs:\n",
    "\n",
    "  * A count matrix of shape 'number of samples' x 'number of genes', containing\n",
    "    read counts (non-negative integers),\n",
    "  * Metadata (or \"column\" data) of shape 'number of samples' x\n",
    "    'number of variables', containing sample annotations that will be used\n",
    "    to split the data in cohorts.\n",
    "\n",
    "Both should be provided as [pandas dataframes](https://pandas.pydata.org/docs/reference/api/pandas.DataFrame.html).\n",
    "\n",
    "\n",
    "To illustrate the required data format, we load a synthetic example dataset\n",
    "that may be\n",
    "obtained through PyDESeq2's API using [`utils.load_example_data`](https://pydeseq2.readthedocs.io/en/latest/api/docstrings/pydeseq2.utils.html#pydeseq2.utils.load_example_data).\n",
    "You may replace it with your own dataset.\n",
    "\n"
   ]
  },
  {
   "cell_type": "code",
   "execution_count": null,
   "metadata": {
    "collapsed": false,
    "jupyter": {
     "outputs_hidden": false
    }
   },
   "outputs": [],
   "source": [
    "counts_df = load_example_data(\n",
    "    modality=\"raw_counts\",\n",
    "    dataset=\"synthetic\",\n",
    "    debug=False,\n",
    ")\n",
    "\n",
    "metadata = load_example_data(\n",
    "    modality=\"metadata\",\n",
    "    dataset=\"synthetic\",\n",
    "    debug=False,\n",
    ")"
   ]
  },
  {
   "cell_type": "markdown",
   "metadata": {},
   "source": [
    "## 1. Read counts modeling\n",
    "Read counts modeling with the [`DeseqDataSet`](https://pydeseq2.readthedocs.io/en/latest/api/docstrings/pydeseq2.dds.DeseqDataSet.html) class.\n",
    "\n",
    "The [`DeseqDataSet`](https://pydeseq2.readthedocs.io/en/latest/api/docstrings/pydeseq2.dds.DeseqDataSet.html) class has two mandatory\n",
    "arguments, ``counts`` and\n",
    "``metadata``, as well as a set of optional keyword arguments, among which:\n",
    "\n",
    "- ``design_factor``: the name of the column of metadata to be used as a design\n",
    "  variable\n",
    "- ``refit_cooks``: whether to refit cooks outliers – this is advised, in general.\n",
    "\n",
    "<div class=\"alert alert-info\"><h4>Note</h4><p>in the case of the provided synthetic data, there won't be any Cooks\n",
    "  outliers.</p></div>\n",
    "\n"
   ]
  },
  {
   "cell_type": "code",
   "execution_count": null,
   "metadata": {
    "collapsed": false,
    "jupyter": {
     "outputs_hidden": false
    }
   },
   "outputs": [],
   "source": [
    "dds = DeseqDataSet(\n",
    "    counts=counts_df,\n",
    "    metadata=metadata,\n",
    "    design_factors=\"condition\",  # compare samples based on the \"condition\"\n",
    "    # column (\"B\" vs \"A\")\n",
    "    refit_cooks=True,\n",
    "    n_cpus=8,\n",
    ")"
   ]
  },
  {
   "cell_type": "markdown",
   "metadata": {},
   "source": [
    "### Compute normalization factors\n",
    "\n"
   ]
  },
  {
   "cell_type": "code",
   "execution_count": null,
   "metadata": {
    "collapsed": false,
    "jupyter": {
     "outputs_hidden": false
    }
   },
   "outputs": [],
   "source": [
    "dds.fit_size_factors()\n",
    "\n",
    "dds.obsm[\"size_factors\"]"
   ]
  },
  {
   "cell_type": "markdown",
   "metadata": {},
   "source": [
    "### Fit genewise dispersions\n",
    "\n"
   ]
  },
  {
   "cell_type": "code",
   "execution_count": null,
   "metadata": {
    "collapsed": false,
    "jupyter": {
     "outputs_hidden": false
    }
   },
   "outputs": [],
   "source": [
    "dds.fit_genewise_dispersions()\n",
    "\n",
    "dds.varm[\"genewise_dispersions\"]"
   ]
  },
  {
   "cell_type": "markdown",
   "metadata": {},
   "source": [
    "### Fit dispersion trend coefficients\n",
    "\n"
   ]
  },
  {
   "cell_type": "code",
   "execution_count": null,
   "metadata": {
    "collapsed": false,
    "jupyter": {
     "outputs_hidden": false
    }
   },
   "outputs": [],
   "source": [
    "dds.fit_dispersion_trend()\n",
    "dds.uns[\"trend_coeffs\"]\n",
    "dds.varm[\"fitted_dispersions\"]"
   ]
  },
  {
   "cell_type": "markdown",
   "metadata": {},
   "source": [
    "### Dispersion priors\n",
    "\n"
   ]
  },
  {
   "cell_type": "code",
   "execution_count": null,
   "metadata": {
    "collapsed": false,
    "jupyter": {
     "outputs_hidden": false
    }
   },
   "outputs": [],
   "source": [
    "dds.fit_dispersion_prior()\n",
    "print(\n",
    "    f\"logres_prior={dds.uns['_squared_logres']}, sigma_prior={dds.uns['prior_disp_var']}\"\n",
    ")"
   ]
  },
  {
   "cell_type": "markdown",
   "metadata": {},
   "source": [
    "### MAP Dispersions\n",
    "The [`fit_MAP_dispersions`](https://pydeseq2.readthedocs.io/en/latest/api/docstrings/pydeseq2.dds.DeseqDataSet.html#pydeseq2.dds.DeseqDataSet.fit_MAP_dispersions) method filters the genes for which dispersion\n",
    "shrinkage is applied.\n",
    "Indeed, for genes whose MLE dispersions are too high above the trend curve,\n",
    "the original MLE value is kept.\n",
    "The final values of the dispersions that are used for downstream analysis is\n",
    "stored in `dds.varm[\"dispersions\"]`.\n",
    "\n"
   ]
  },
  {
   "cell_type": "code",
   "execution_count": null,
   "metadata": {
    "collapsed": false,
    "jupyter": {
     "outputs_hidden": false
    },
    "scrolled": true
   },
   "outputs": [],
   "source": [
    "dds.fit_MAP_dispersions()\n",
    "dds.varm[\"MAP_dispersions\"]\n",
    "dds.varm[\"dispersions\"]"
   ]
  },
  {
   "cell_type": "markdown",
   "metadata": {},
   "source": [
    "### Fit log fold changes\n",
    "Note that in the `DeseqDataSet` object, the log-fold changes are stored in\n",
    "natural\n",
    "log scale, but that the results dataframe output by the `summary` method of\n",
    "`DeseqStats` displays LFCs in log2 scale (see later on).\n",
    "\n"
   ]
  },
  {
   "cell_type": "code",
   "execution_count": null,
   "metadata": {
    "collapsed": false,
    "jupyter": {
     "outputs_hidden": false
    }
   },
   "outputs": [],
   "source": [
    "dds.fit_LFC()\n",
    "dds.varm[\"LFC\"]"
   ]
  },
  {
   "cell_type": "markdown",
   "metadata": {},
   "source": [
    "### Calculate Cooks distances and refit\n",
    "Note that this step is optional.\n",
    "\n"
   ]
  },
  {
   "cell_type": "code",
   "execution_count": null,
   "metadata": {
    "collapsed": false,
    "jupyter": {
     "outputs_hidden": false
    }
   },
   "outputs": [],
   "source": [
    "dds.calculate_cooks()\n",
    "if dds.refit_cooks:\n",
    "    # Replace outlier counts\n",
    "    dds.refit()"
   ]
  },
  {
   "cell_type": "markdown",
   "metadata": {},
   "source": [
    "Save everything\n",
    "\n"
   ]
  },
  {
   "cell_type": "code",
   "execution_count": null,
   "metadata": {
    "collapsed": false,
    "jupyter": {
     "outputs_hidden": false
    }
   },
   "outputs": [],
   "source": [
    "if SAVE:\n",
    "    with open(os.path.join(OUTPUT_PATH, \"dds_detailed_pipe.pkl\"), \"wb\") as f:\n",
    "        pkl.dump(dds, f)"
   ]
  },
  {
   "cell_type": "markdown",
   "metadata": {},
   "source": [
    "## 2. Statistical analysis with the [`DeseqStats`](https://pydeseq2.readthedocs.io/en/latest/api/docstrings/pydeseq2.ds.DeseqStats.html) class.\n",
    "\n",
    "The [`DeseqStats`](https://pydeseq2.readthedocs.io/en/latest/api/docstrings/pydeseq2.ds.DeseqStats.html) class has a unique mandatory arguments, `dds`, which should\n",
    "be a *fitted* `DeseqDataSet` object, as well as a set of optional keyword\n",
    "arguments, among which:\n",
    "\n",
    "- `alpha`: the p-value and adjusted p-value significance threshold\n",
    "- `cooks_filter`: whether to filter p-values based on cooks outliers\n",
    "- `independent_filter`: whether to perform independent filtering to correct\n",
    "  p-value trends.\n",
    "\n"
   ]
  },
  {
   "cell_type": "code",
   "execution_count": null,
   "metadata": {
    "collapsed": false,
    "jupyter": {
     "outputs_hidden": false
    }
   },
   "outputs": [],
   "source": [
    "ds = DeseqStats(dds, alpha=0.05, cooks_filter=True, independent_filter=True)"
   ]
  },
  {
   "cell_type": "markdown",
   "metadata": {},
   "source": [
    "### Wald tests\n",
    "\n"
   ]
  },
  {
   "cell_type": "code",
   "execution_count": null,
   "metadata": {
    "collapsed": false,
    "jupyter": {
     "outputs_hidden": false
    }
   },
   "outputs": [],
   "source": [
    "ds.run_wald_test()\n",
    "ds.p_values"
   ]
  },
  {
   "cell_type": "markdown",
   "metadata": {},
   "source": [
    "### Cooks filtering\n",
    "This is optional\n",
    "\n",
    "<div class=\"alert alert-info\"><h4>Note</h4><p>Note: in the case of the provided synthetic data, there won't be any\n",
    "  outliers.</p></div>\n",
    "\n"
   ]
  },
  {
   "cell_type": "code",
   "execution_count": null,
   "metadata": {
    "collapsed": false,
    "jupyter": {
     "outputs_hidden": false
    }
   },
   "outputs": [],
   "source": [
    "if ds.cooks_filter:\n",
    "    ds._cooks_filtering()\n",
    "ds.p_values"
   ]
  },
  {
   "cell_type": "markdown",
   "metadata": {},
   "source": [
    "### P-value adjustment\n",
    "\n"
   ]
  },
  {
   "cell_type": "code",
   "execution_count": null,
   "metadata": {
    "collapsed": false,
    "jupyter": {
     "outputs_hidden": false
    }
   },
   "outputs": [],
   "source": [
    "if ds.independent_filter:\n",
    "    ds._independent_filtering()\n",
    "else:\n",
    "    ds._p_value_adjustment()\n",
    "\n",
    "ds.padj"
   ]
  },
  {
   "cell_type": "markdown",
   "metadata": {},
   "source": [
    "### Building a results dataframe\n",
    "This dataframe is stored in the `results_df` attribute of the `DeseqStats`\n",
    "class.\n",
    "\n"
   ]
  },
  {
   "cell_type": "code",
   "execution_count": null,
   "metadata": {
    "collapsed": false,
    "jupyter": {
     "outputs_hidden": false
    }
   },
   "outputs": [],
   "source": [
    "ds.summary()"
   ]
  },
  {
   "cell_type": "markdown",
   "metadata": {},
   "source": [
    "Save everything if SAVE is set to True\n",
    "\n"
   ]
  },
  {
   "cell_type": "code",
   "execution_count": null,
   "metadata": {
    "collapsed": false,
    "jupyter": {
     "outputs_hidden": false
    }
   },
   "outputs": [],
   "source": [
    "if SAVE:\n",
    "    with open(os.path.join(OUTPUT_PATH, \"stat_results_detailed_pipe.pkl\"), \"wb\") as f:\n",
    "        pkl.dump(ds, f)"
   ]
  },
  {
   "cell_type": "markdown",
   "metadata": {},
   "source": [
    "### LFC Shrinkage\n",
    "For visualization or post-processing purposes, it might be suitable to perform\n",
    "LFC shrinkage. This is implemented by the [`lfc_shrink`](https://pydeseq2.readthedocs.io/en/latest/api/docstrings/pydeseq2.ds.DeseqStats.html#pydeseq2.ds.DeseqStats.lfc_shrink) method.\n",
    "\n"
   ]
  },
  {
   "cell_type": "code",
   "execution_count": null,
   "metadata": {
    "collapsed": false,
    "jupyter": {
     "outputs_hidden": false
    }
   },
   "outputs": [],
   "source": [
    "ds.lfc_shrink(coeff=\"condition_B_vs_A\")"
   ]
  },
  {
   "cell_type": "markdown",
   "metadata": {},
   "source": [
    "Save everything\n",
    "\n"
   ]
  },
  {
   "cell_type": "code",
   "execution_count": null,
   "metadata": {
    "collapsed": false,
    "jupyter": {
     "outputs_hidden": false
    }
   },
   "outputs": [],
   "source": [
    "if SAVE:\n",
    "    with open(\n",
    "        os.path.join(OUTPUT_PATH, \"shrunk_stat_results_detailed_pipe.pkl\"), \"wb\"\n",
    "    ) as f:\n",
    "        pkl.dump(stat_res, f)"
   ]
  }
 ],
 "metadata": {
  "kernelspec": {
   "display_name": "Python 3 (ipykernel)",
   "language": "python",
   "name": "python3"
  },
  "language_info": {
   "codemirror_mode": {
    "name": "ipython",
    "version": 3
   },
   "file_extension": ".py",
   "mimetype": "text/x-python",
   "name": "python",
   "nbconvert_exporter": "python",
   "pygments_lexer": "ipython3",
   "version": "3.8.17"
  }
 },
 "nbformat": 4,
 "nbformat_minor": 4
}
