{
 "cells": [
  {
   "cell_type": "code",
   "execution_count": null,
   "metadata": {
    "collapsed": false,
    "jupyter": {
     "outputs_hidden": false
    }
   },
   "outputs": [],
   "source": [
    "%matplotlib inline"
   ]
  },
  {
   "cell_type": "markdown",
   "metadata": {},
   "source": [
    "\n",
    "# A simple PyDESeq2 workflow\n",
    "\n",
    "In this example, we show how to perform a simple differential expression analysis on bulk\n",
    "RNAseq data, using PyDESeq2.\n",
    "    :depth: 3\n",
    "\n",
    "We start by importing required packages and setting up an optional path to save results.\n"
   ]
  },
  {
   "cell_type": "code",
   "execution_count": null,
   "metadata": {
    "collapsed": false,
    "jupyter": {
     "outputs_hidden": false
    }
   },
   "outputs": [],
   "source": [
    "import os\n",
    "import pickle as pkl\n",
    "\n",
    "from pydeseq2.dds import DeseqDataSet\n",
    "from pydeseq2.ds import DeseqStats\n",
    "from pydeseq2.utils import load_example_data\n",
    "\n",
    "SAVE = False  # whether to save the outputs of this notebook\n",
    "\n",
    "if SAVE:\n",
    "    # Replace this with the path to directory where you would like results to be saved\n",
    "    OUTPUT_PATH = \"../output_files/synthetic_example\"\n",
    "    os.makedirs(OUTPUT_PATH, exist_ok=True)  # Create path if it doesn't exist"
   ]
  },
  {
   "cell_type": "markdown",
   "metadata": {},
   "source": [
    "## Data loading\n",
    "\n",
    "To perform differential expression analysis (DEA), PyDESeq2 requires two types of\n",
    "inputs:\n",
    "\n",
    "  * A count matrix of shape 'number of samples' x 'number of genes', containing\n",
    "    read counts (non-negative integers),\n",
    "  * Metadata (or \"column\" data) of shape 'number of samples' x\n",
    "    'number of variables', containing sample annotations that will be used\n",
    "    to split the data in cohorts.\n",
    "\n",
    "Both should be provided as [pandas dataframes](https://pandas.pydata.org/docs/reference/api/pandas.DataFrame.html).\n",
    "\n",
    ".. currentmodule:: pydeseq2\n",
    "\n",
    "To illustrate the required data format, we load a synthetic example dataset that may be\n",
    "obtained through PyDESeq2's API using [`utils.load_example_data`](https://pydeseq2.readthedocs.io/en/latest/api/docstrings/pydeseq2.utils.html#pydeseq2.utils.load_example_data).\n",
    "You may replace it with your own dataset.\n",
    "\n"
   ]
  },
  {
   "cell_type": "code",
   "execution_count": null,
   "metadata": {
    "collapsed": false,
    "jupyter": {
     "outputs_hidden": false
    }
   },
   "outputs": [],
   "source": [
    "counts_df = load_example_data(\n",
    "    modality=\"raw_counts\",\n",
    "    dataset=\"synthetic\",\n",
    "    debug=False,\n",
    ")\n",
    "\n",
    "metadata = load_example_data(\n",
    "    modality=\"metadata\",\n",
    "    dataset=\"synthetic\",\n",
    "    debug=False,\n",
    ")\n",
    "\n",
    "print(counts_df)"
   ]
  },
  {
   "cell_type": "code",
   "execution_count": null,
   "metadata": {
    "collapsed": false,
    "jupyter": {
     "outputs_hidden": false
    }
   },
   "outputs": [],
   "source": [
    "print(metadata)"
   ]
  },
  {
   "cell_type": "markdown",
   "metadata": {},
   "source": [
    "In this example, the metadata data contains two columns, ``condition`` and ``group``,\n",
    "representing two types of bi-level annotations. In the first part, we will only use the\n",
    "``condition`` factor. Later on, we'll see how to use both the `condition` and the\n",
    "``group`` factors in our analysis (see `multifactor_ref`).\n",
    "\n"
   ]
  },
  {
   "cell_type": "markdown",
   "metadata": {},
   "source": [
    "### Data filtering\n",
    "\n",
    "Before proceeding with DEA, it is good practice to preprocess your data, e.g. to remove\n",
    "samples for which annotations are missing and exclude genes with very low levels of\n",
    "expression. This is not necessary in the case of our synthetic data, but don't forget\n",
    "this step if you are using real data. To this end you can use the code below.\n",
    "\n",
    "We start by removing samples for which ``condition`` is ``NaN``. If you are using\n",
    "another dataset, do not forget to change \"condition\" for the column of ``metadata``\n",
    "you wish to use as a design factor in your analysis.\n",
    "\n"
   ]
  },
  {
   "cell_type": "code",
   "execution_count": null,
   "metadata": {
    "collapsed": false,
    "jupyter": {
     "outputs_hidden": false
    }
   },
   "outputs": [],
   "source": [
    "samples_to_keep = ~metadata.condition.isna()\n",
    "counts_df = counts_df.loc[samples_to_keep]\n",
    "metadata = metadata.loc[samples_to_keep]"
   ]
  },
  {
   "cell_type": "markdown",
   "metadata": {},
   "source": [
    "<div class=\"alert alert-info\"><h4>Note</h4><p>In the case where the design factor contains ``NaN`` entries, PyDESeq2 will throw an\n",
    "  error when intializing a :class:`DeseqDataSet <dds.DeseqDataSet>`.</p></div>\n",
    "\n"
   ]
  },
  {
   "cell_type": "markdown",
   "metadata": {},
   "source": [
    "Next, we filter out genes that have less than 10 read counts in total. Note again that\n",
    "there are no such genes in this synthetic dataset.\n",
    "\n"
   ]
  },
  {
   "cell_type": "code",
   "execution_count": null,
   "metadata": {
    "collapsed": false,
    "jupyter": {
     "outputs_hidden": false
    }
   },
   "outputs": [],
   "source": [
    "genes_to_keep = counts_df.columns[counts_df.sum(axis=0) >= 10]\n",
    "counts_df = counts_df[genes_to_keep]"
   ]
  },
  {
   "cell_type": "markdown",
   "metadata": {},
   "source": [
    "Now that we have loaded and filtered our data, we may proceed with the differential\n",
    "analysis.\n",
    "\n"
   ]
  },
  {
   "cell_type": "markdown",
   "metadata": {},
   "source": [
    "## Single factor analysis\n",
    "\n",
    "In this first analysis, we ignore the ``group`` variable and use the ``condition``\n",
    "column as our design factor. That is, we compare gene expressions of samples that have\n",
    "``condition B`` to those that have ``condition A``.\n",
    "\n",
    "\n"
   ]
  },
  {
   "cell_type": "markdown",
   "metadata": {},
   "source": [
    "### Read counts modeling with the [`DeseqDataSet`](https://pydeseq2.readthedocs.io/en/latest/api/docstrings/pydeseq2.dds.DeseqDataSet.html) class\n",
    "\n",
    "We start by creating a [`DeseqDataSet`](https://pydeseq2.readthedocs.io/en/latest/api/docstrings/pydeseq2.dds.DeseqDataSet.html)\n",
    "object from the count and metadata data.\n",
    "A [`DeseqDataSet`](https://pydeseq2.readthedocs.io/en/latest/api/docstrings/pydeseq2.dds.DeseqDataSet.html) fits dispersion and\n",
    "log-fold change (LFC) parameters from the data, and stores them.\n",
    "\n",
    "\n"
   ]
  },
  {
   "cell_type": "code",
   "execution_count": null,
   "metadata": {
    "collapsed": false,
    "jupyter": {
     "outputs_hidden": false
    }
   },
   "outputs": [],
   "source": [
    "dds = DeseqDataSet(\n",
    "    counts=counts_df,\n",
    "    metadata=metadata,\n",
    "    design_factors=\"condition\",\n",
    "    refit_cooks=True,\n",
    "    n_cpus=8,\n",
    ")"
   ]
  },
  {
   "cell_type": "markdown",
   "metadata": {},
   "source": [
    "A [`DeseqDataSet`](https://pydeseq2.readthedocs.io/en/latest/api/docstrings/pydeseq2.dds.DeseqDataSet.html) has two mandatory\n",
    "arguments: a ``counts`` and a ``metadata`` dataframe, like the ones we've loaded in the\n",
    "first part of this tutorial.\n",
    "\n",
    "Next, we should specify the ``design_factor``, i.e. the column of the ``metadata``\n",
    "dataframe that will be used to compare samples. This can be a single string as above,\n",
    "or a list of strings, as in the [section on multifactor analysis](#Multifactor-analysis).\n",
    "\n",
    "<div class=\"alert alert-info\"><h4>Note</h4><p>The ``\"condition\"`` argument passed to ``design_factors`` corresponds to a column\n",
    "  from the ``metadata`` dataframe we loaded earlier.\n",
    "  You might need to change it according to your own dataset.</p></div>\n",
    "\n",
    "Several other arguments may be optionally specified (see the [API documentation](https://pydeseq2.readthedocs.io/en/latest/api/docstrings/pydeseq2.dds.DeseqDataSet.html)).\n",
    "Among those, the ``refit_cooks`` argument (set to ``True`` by default), controls\n",
    "whether Cooks outlier should be refitted (which is advised, in general) and ``n_cpus``\n",
    "sets the number of CPUs to use for computation. Here, we use 8 threads. Feel free to\n",
    "adapt this to your setup or to set to ``None`` to use all available CPUs.\n",
    "\n",
    "<div class=\"alert alert-info\"><h4>Note</h4><p>In the case of the provided synthetic data, there won't be any Cooks outliers.</p></div>\n",
    "\n",
    "Once a [`DeseqDataSet`](https://pydeseq2.readthedocs.io/en/latest/api/docstrings/pydeseq2.dds.DeseqDataSet.html)was initialized,\n",
    "we may run the [`deseq2()`](https://pydeseq2.readthedocs.io/en/latest/api/docstrings/pydeseq2.dds.DeseqDataSet.html#pydeseq2.dds.DeseqDataSet.deseq2) method\n",
    "to fit dispersions and LFCs.\n",
    "\n",
    "\n",
    "\n"
   ]
  },
  {
   "cell_type": "code",
   "execution_count": null,
   "metadata": {
    "collapsed": false,
    "jupyter": {
     "outputs_hidden": false
    }
   },
   "outputs": [],
   "source": [
    "dds.deseq2()\n",
    "\n",
    "\n",
    "if SAVE:\n",
    "    with open(os.path.join(OUTPUT_PATH, \"dds.pkl\"), \"wb\") as f:\n",
    "        pkl.dump(dds, f)"
   ]
  },
  {
   "cell_type": "markdown",
   "metadata": {},
   "source": [
    "The `DeseqDataSet` class extends the\n",
    "[`AnnData`](https://anndata.readthedocs.io/en/latest/api.html)\n",
    "class.\n",
    "\n"
   ]
  },
  {
   "cell_type": "code",
   "execution_count": null,
   "metadata": {
    "collapsed": false,
    "jupyter": {
     "outputs_hidden": false
    }
   },
   "outputs": [],
   "source": [
    "print(dds)"
   ]
  },
  {
   "cell_type": "markdown",
   "metadata": {},
   "source": [
    "Hence, parameters are stored according to the [`AnnData`](https://anndata.readthedocs.io/en/latest/api.html) data\n",
    "structure, with key-based data fields. In particular,\n",
    "\n",
    "- ``X`` stores the count data,\n",
    "- ``obs`` stores design factors,\n",
    "- ``obsm`` stores sample-level data, such as ``\"design_matrix\"`` and\n",
    "  ``\"size_factors\"``,\n",
    "- ``varm`` stores gene-level data, such as ``\"dispersions\"`` and ``\"LFC\"``.\n",
    "\n",
    "\n",
    "As an example, here is how we would access dispersions and LFCs\n",
    "(in natural log scale):\n",
    "\n"
   ]
  },
  {
   "cell_type": "code",
   "execution_count": null,
   "metadata": {
    "collapsed": false,
    "jupyter": {
     "outputs_hidden": false
    }
   },
   "outputs": [],
   "source": [
    "print(dds.varm[\"dispersions\"])"
   ]
  },
  {
   "cell_type": "code",
   "execution_count": null,
   "metadata": {
    "collapsed": false,
    "jupyter": {
     "outputs_hidden": false
    }
   },
   "outputs": [],
   "source": [
    "print(dds.varm[\"LFC\"])"
   ]
  },
  {
   "cell_type": "markdown",
   "metadata": {},
   "source": [
    "### Statistical analysis with the [`DeseqStats`](https://pydeseq2.readthedocs.io/en/latest/api/docstrings/pydeseq2.ds.DeseqStats.html) class\n",
    "\n",
    "Now that dispersions and LFCs were fitted, we may proceed with statistical tests to\n",
    "compute p-values and adjusted p-values for differential expresion. This is the role of\n",
    "the [`DeseqStats`](https://pydeseq2.readthedocs.io/en/latest/api/docstrings/pydeseq2.ds.DeseqStats.html) class. It has a unique mandatory argument, ``dds``, which\n",
    "should be a *fitted* `DeseqDataSet`\n",
    "object.\n",
    "\n"
   ]
  },
  {
   "cell_type": "code",
   "execution_count": null,
   "metadata": {
    "collapsed": false,
    "jupyter": {
     "outputs_hidden": false
    }
   },
   "outputs": [],
   "source": [
    "ds = DeseqStats(dds, n_cpus=8)"
   ]
  },
  {
   "cell_type": "markdown",
   "metadata": {},
   "source": [
    "It also has a set of optional keyword arguments (see the [API documentation](https://pydeseq2.readthedocs.io/en/latest/api/docstrings/pydeseq2.ds.DeseqStats.html))\n",
    ", among which:\n",
    "\n",
    "- ``alpha``: the p-value and adjusted p-value significance threshold (``0.05``\n",
    "  by default),\n",
    "- ``cooks_filter``: whether to filter p-values based on cooks outliers\n",
    "  (``True`` by default),\n",
    "- ``independent_filter``: whether to perform independent filtering to correct\n",
    "  p-value trends (``True`` by default).\n",
    "\n",
    "In the [section on multifactor analysis](#Multifactor-analysis), we will also see how\n",
    "to use the ``contrast`` argument to specify according to which variable samples should\n",
    "be compared.\n",
    "\n"
   ]
  },
  {
   "cell_type": "markdown",
   "metadata": {},
   "source": [
    "\n",
    "#### Wald test\n",
    "\n",
    "PyDESeq2 computes p-values using Wald tests. This can be done using the\n",
    "[`summary()`](https://pydeseq2.readthedocs.io/en/latest/api/docstrings/pydeseq2.ds.DeseqStats.html#pydeseq2.ds.DeseqStats.summary) method, which runs the whole statistical\n",
    "analysis, cooks filtering and multiple testing adjustement included.\n",
    "\n"
   ]
  },
  {
   "cell_type": "code",
   "execution_count": null,
   "metadata": {
    "collapsed": false,
    "jupyter": {
     "outputs_hidden": false
    }
   },
   "outputs": [],
   "source": [
    "ds.summary()\n",
    "\n",
    "if SAVE:\n",
    "    with open(os.path.join(OUTPUT_PATH, \"ds.pkl\"), \"wb\") as f:\n",
    "        pkl.dump(ds, f)"
   ]
  },
  {
   "cell_type": "markdown",
   "metadata": {},
   "source": [
    "The results are then stored in the ``results_df`` attribute (``ds.results_df``).\n",
    "\n"
   ]
  },
  {
   "cell_type": "markdown",
   "metadata": {},
   "source": [
    "#### Optional: threshold-based tests\n",
    "\n",
    "The user can specify a (log2) log fold change under the null hypothesis and an\n",
    "alternative hypothesis to re-compute Wald statistics and p-values.\n",
    "The alternative hypothesis corresponds to what the user wants to find rather than the\n",
    "null hypothesis. It can take one of the values\n",
    "``[\"greaterAbs\", \"lessAbs\", \"greater\", \"less\"]``.\n",
    "\n"
   ]
  },
  {
   "cell_type": "code",
   "execution_count": null,
   "metadata": {
    "collapsed": false,
    "jupyter": {
     "outputs_hidden": false
    }
   },
   "outputs": [],
   "source": [
    "ds.summary(lfc_null=0.1, alt_hypothesis=\"greaterAbs\")"
   ]
  },
  {
   "cell_type": "markdown",
   "metadata": {},
   "source": [
    "#### LFC shrinkage\n",
    "\n",
    "For visualization or post-processing purposes, it might be suitable to perform\n",
    "LFC shrinkage. This is implemented by the [`lfc_shrink()`](https://pydeseq2.readthedocs.io/en/latest/api/docstrings/pydeseq2.ds.DeseqStats.html#pydeseq2.ds.DeseqStats.lfc_shrink)\n",
    "method.\n",
    "\n"
   ]
  },
  {
   "cell_type": "code",
   "execution_count": null,
   "metadata": {
    "collapsed": false,
    "jupyter": {
     "outputs_hidden": false
    }
   },
   "outputs": [],
   "source": [
    "ds.lfc_shrink(coeff=\"condition_B_vs_A\")\n",
    "\n",
    "if SAVE:\n",
    "    with open(os.path.join(OUTPUT_PATH, \"shrunk_stat_results.pkl\"), \"wb\") as f:\n",
    "        pkl.dump(ds, f)"
   ]
  },
  {
   "cell_type": "markdown",
   "metadata": {},
   "source": [
    "<div class=\"alert alert-info\"><h4>Note</h4><p>Running `lfc_shrink()` will overwrite a\n",
    "`DeseqStats`' log fold changes (and standard errors) with shrunk values.\n",
    "  This can be checked using the ``shrunk_LFCs`` flag.</p></div>\n",
    "\n",
    "\n"
   ]
  },
  {
   "cell_type": "code",
   "execution_count": null,
   "metadata": {
    "collapsed": false,
    "jupyter": {
     "outputs_hidden": false
    }
   },
   "outputs": [],
   "source": [
    "print(ds.shrunk_LFCs)  # Will be True only if lfc_shrink() was run."
   ]
  },
  {
   "cell_type": "markdown",
   "metadata": {},
   "source": [
    "## Multifactor analysis\n",
    "\n",
    "So far, we have only used the ``condition`` column of ``metadata``, which divides\n",
    "samples between conditions ``A`` and ``B``. Yet, ``metadata`` contains second\n",
    "column, which separates samples according to ``group`` ``X`` and ``Y``.\n",
    "\n"
   ]
  },
  {
   "cell_type": "code",
   "execution_count": null,
   "metadata": {
    "collapsed": false,
    "jupyter": {
     "outputs_hidden": false
    }
   },
   "outputs": [],
   "source": [
    "print(metadata)"
   ]
  },
  {
   "cell_type": "markdown",
   "metadata": {},
   "source": [
    "The goal of multifactor analysis is to use *both* variables to fit LFCs.\n",
    "\n",
    "### Read counts modeling\n",
    "\n",
    "To perform multifactor analysis with PyDESeq2, we start by inializing a\n",
    "`DeseqDataSet` as previously, but we provide the list of variables we would like\n",
    "to use in the ``design_factors`` argument.\n",
    "\n",
    "\n"
   ]
  },
  {
   "cell_type": "code",
   "execution_count": null,
   "metadata": {
    "collapsed": false,
    "jupyter": {
     "outputs_hidden": false
    }
   },
   "outputs": [],
   "source": [
    "dds = DeseqDataSet(\n",
    "    counts=counts_df,\n",
    "    metadata=metadata,\n",
    "    design_factors=[\"group\", \"condition\"],\n",
    "    refit_cooks=True,\n",
    "    n_cpus=8,\n",
    ")"
   ]
  },
  {
   "cell_type": "markdown",
   "metadata": {},
   "source": [
    "<div class=\"alert alert-info\"><h4>Note</h4><p>By default, the last variable in the list (here, ``\"condition\"``) will be the one for\n",
    "  which LFCs and p-values will be displayed, but this may be changed later on when\n",
    "  performing the statistical analysis.</p></div>\n",
    "\n",
    "As for the single-factor analysis, we fit dispersions and LFCs using the\n",
    "`deseq2()` method.\n",
    "\n"
   ]
  },
  {
   "cell_type": "code",
   "execution_count": null,
   "metadata": {
    "collapsed": false,
    "jupyter": {
     "outputs_hidden": false
    }
   },
   "outputs": [],
   "source": [
    "dds.deseq2()"
   ]
  },
  {
   "cell_type": "markdown",
   "metadata": {},
   "source": [
    "Now, if we print log fold changes, we will have two columns in addition to the\n",
    "intercept: one corresponding to the ``group`` variable, and the other to ``condition``.\n",
    "\n"
   ]
  },
  {
   "cell_type": "code",
   "execution_count": null,
   "metadata": {
    "collapsed": false,
    "jupyter": {
     "outputs_hidden": false
    }
   },
   "outputs": [],
   "source": [
    "print(dds.varm[\"LFC\"])"
   ]
  },
  {
   "cell_type": "markdown",
   "metadata": {},
   "source": [
    "### Statistical analysis\n",
    "\n",
    "P-values are computed as earlier from a `DeseqStats` object with the\n",
    "`summary()` method, with a new important argument:\n",
    "the ``contrast``.\n",
    "It is a list of three strings of the form\n",
    "``[\"variable\", \"tested level\", \"reference level\"]`` which determines which\n",
    "variable we want to compute LFCs and pvalues for.\n",
    "As an example, to compare the condition B to the condition A, we set\n",
    "``contrast=[\"condition\", \"B\", \"A\"]``.\n",
    "\n",
    "\n"
   ]
  },
  {
   "cell_type": "code",
   "execution_count": null,
   "metadata": {
    "collapsed": false,
    "jupyter": {
     "outputs_hidden": false
    }
   },
   "outputs": [],
   "source": [
    "stat_res_B_vs_A = DeseqStats(dds, contrast=[\"condition\", \"B\", \"A\"], n_cpus=8)"
   ]
  },
  {
   "cell_type": "markdown",
   "metadata": {},
   "source": [
    "<div class=\"alert alert-info\"><h4>Note</h4><p>If left blank, the variable of interest will be the last one provided in\n",
    "  the ``design_factors`` attribute of the corresponding\n",
    " `DeseqDataSet <pydeseq2.dds.DeseqDataSet>` object,\n",
    "  and the reference level will be picked alphabetically.\n",
    "  In any case, *both variables are still used*. This is due to the fact that ``dds``\n",
    "  was fit with both as design factors.</p></div>\n",
    "\n",
    "Let us fit p-values:\n",
    "\n",
    "\n"
   ]
  },
  {
   "cell_type": "code",
   "execution_count": null,
   "metadata": {
    "collapsed": false,
    "jupyter": {
     "outputs_hidden": false
    }
   },
   "outputs": [],
   "source": [
    "stat_res_B_vs_A.summary()"
   ]
  },
  {
   "cell_type": "markdown",
   "metadata": {},
   "source": [
    "As we can see, although we are comparing the same cohorts (condition B vs A), the\n",
    "results differ from the single-factor analysis. This is because the\n",
    "model uses information from both the ``condition`` and ``group`` variables.\n",
    "\n",
    "Let us now evaluate differential expression according to group Y vs X. To do so,\n",
    "we create a new `DeseqStats` from the same `DeseqDataSet`\n",
    "with ``contrast=[\"group\", \"Y\", \"X\"]``, and run the analysis again.\n",
    "\n"
   ]
  },
  {
   "cell_type": "code",
   "execution_count": null,
   "metadata": {
    "collapsed": false,
    "jupyter": {
     "outputs_hidden": false
    }
   },
   "outputs": [],
   "source": [
    "stat_res_Y_vs_X = DeseqStats(dds, contrast=[\"group\", \"Y\", \"X\"], n_cpus=8)\n",
    "stat_res_Y_vs_X.summary()"
   ]
  },
  {
   "cell_type": "markdown",
   "metadata": {},
   "source": [
    "#### LFC shrinkage (multifactor)\n",
    "\n",
    "In a multifactor setting, LFC shrinkage works as in the single-factor case, but will\n",
    "only shrink the LFCs of a `DeseqStats` object based on its\n",
    "``contrast`` argument.\n",
    "\n"
   ]
  },
  {
   "cell_type": "code",
   "execution_count": null,
   "metadata": {
    "collapsed": false,
    "jupyter": {
     "outputs_hidden": false
    }
   },
   "outputs": [],
   "source": [
    "stat_res_B_vs_A.lfc_shrink(coeff=\"condition_B_vs_A\")"
   ]
  },
  {
   "cell_type": "code",
   "execution_count": null,
   "metadata": {},
   "outputs": [],
   "source": []
  }
 ],
 "metadata": {
  "kernelspec": {
   "display_name": "Python 3 (ipykernel)",
   "language": "python",
   "name": "python3"
  },
  "language_info": {
   "codemirror_mode": {
    "name": "ipython",
    "version": 3
   },
   "file_extension": ".py",
   "mimetype": "text/x-python",
   "name": "python",
   "nbconvert_exporter": "python",
   "pygments_lexer": "ipython3",
   "version": "3.8.17"
  }
 },
 "nbformat": 4,
 "nbformat_minor": 4
}
